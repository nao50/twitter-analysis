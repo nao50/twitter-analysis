{
 "cells": [
  {
   "cell_type": "code",
   "execution_count": 1,
   "metadata": {},
   "outputs": [],
   "source": [
    "import numpy as np\n",
    "import time, datetime, pytz\n",
    "import re, sys,traceback\n",
    "import json\n",
    "import pymongo\n",
    "from pymongo import MongoClient\n",
    "from collections import defaultdict\n",
    "\n",
    "from requests_oauthlib import OAuth1Session\n",
    "from requests.exceptions import ConnectionError, ReadTimeout, SSLError"
   ]
  },
  {
   "cell_type": "code",
   "execution_count": 3,
   "metadata": {},
   "outputs": [],
   "source": [
    "# Enter your API key\n",
    "KEYS = {\n",
    "  'consumer_key':'XXXXX',\n",
    "  'consumer_secret':'XXXXX',\n",
    "  'access_token':'XXXXX',\n",
    "  'access_secret':'XXXXX',\n",
    "}"
   ]
  },
  {
   "cell_type": "code",
   "execution_count": 4,
   "metadata": {},
   "outputs": [
    {
     "ename": "NameError",
     "evalue": "name 'mongo' is not defined",
     "output_type": "error",
     "traceback": [
      "\u001b[0;31m\u001b[0m",
      "\u001b[0;31mNameError\u001b[0mTraceback (most recent call last)",
      "\u001b[0;32m<ipython-input-4-e3ff6306976a>\u001b[0m in \u001b[0;36m<module>\u001b[0;34m()\u001b[0m\n\u001b[1;32m      7\u001b[0m   \u001b[0mmeta\u001b[0m \u001b[0;34m=\u001b[0m \u001b[0mdb\u001b[0m\u001b[0;34m.\u001b[0m\u001b[0mmetadata\u001b[0m\u001b[0;34m\u001b[0m\u001b[0m\n\u001b[1;32m      8\u001b[0m \u001b[0;34m\u001b[0m\u001b[0m\n\u001b[0;32m----> 9\u001b[0;31m \u001b[0minitialize\u001b[0m\u001b[0;34m(\u001b[0m\u001b[0;34m)\u001b[0m\u001b[0;34m\u001b[0m\u001b[0m\n\u001b[0m",
      "\u001b[0;32m<ipython-input-4-e3ff6306976a>\u001b[0m in \u001b[0;36minitialize\u001b[0;34m()\u001b[0m\n\u001b[1;32m      2\u001b[0m   \u001b[0;32mglobal\u001b[0m \u001b[0mtwitter\u001b[0m\u001b[0;34m,\u001b[0m \u001b[0mconnect\u001b[0m\u001b[0;34m,\u001b[0m \u001b[0mdb\u001b[0m\u001b[0;34m,\u001b[0m \u001b[0mtweetdata\u001b[0m\u001b[0;34m,\u001b[0m \u001b[0mmeta\u001b[0m\u001b[0;34m\u001b[0m\u001b[0m\n\u001b[1;32m      3\u001b[0m   \u001b[0mtwitter\u001b[0m \u001b[0;34m=\u001b[0m \u001b[0mOAuth1Session\u001b[0m\u001b[0;34m(\u001b[0m\u001b[0mKEYS\u001b[0m\u001b[0;34m[\u001b[0m\u001b[0;34m'consumer_key'\u001b[0m\u001b[0;34m]\u001b[0m\u001b[0;34m,\u001b[0m \u001b[0mKEYS\u001b[0m\u001b[0;34m[\u001b[0m\u001b[0;34m'consumer_secret'\u001b[0m\u001b[0;34m]\u001b[0m\u001b[0;34m,\u001b[0m \u001b[0mKEYS\u001b[0m\u001b[0;34m[\u001b[0m\u001b[0;34m'access_token'\u001b[0m\u001b[0;34m]\u001b[0m\u001b[0;34m,\u001b[0m \u001b[0mKEYS\u001b[0m\u001b[0;34m[\u001b[0m\u001b[0;34m'access_secret'\u001b[0m\u001b[0;34m]\u001b[0m\u001b[0;34m)\u001b[0m\u001b[0;34m\u001b[0m\u001b[0m\n\u001b[0;32m----> 4\u001b[0;31m   \u001b[0mconnect\u001b[0m \u001b[0;34m=\u001b[0m \u001b[0mMongoClient\u001b[0m\u001b[0;34m(\u001b[0m\u001b[0mmongo\u001b[0m\u001b[0;34m,\u001b[0m \u001b[0;36m27017\u001b[0m\u001b[0;34m)\u001b[0m \u001b[0;31m#mongo is environment variable\u001b[0m\u001b[0;34m\u001b[0m\u001b[0m\n\u001b[0m\u001b[1;32m      5\u001b[0m   \u001b[0mdb\u001b[0m \u001b[0;34m=\u001b[0m \u001b[0mconnect\u001b[0m\u001b[0;34m.\u001b[0m\u001b[0mstarbucks\u001b[0m\u001b[0;34m\u001b[0m\u001b[0m\n\u001b[1;32m      6\u001b[0m   \u001b[0mtweetdata\u001b[0m \u001b[0;34m=\u001b[0m \u001b[0mdb\u001b[0m\u001b[0;34m.\u001b[0m\u001b[0mtweetdata\u001b[0m\u001b[0;34m\u001b[0m\u001b[0m\n",
      "\u001b[0;31mNameError\u001b[0m: name 'mongo' is not defined"
     ]
    }
   ],
   "source": [
    "def initialize():\n",
    "  global twitter, connect, db, tweetdata, meta\n",
    "  twitter = OAuth1Session(KEYS['consumer_key'], KEYS['consumer_secret'], KEYS['access_token'], KEYS['access_secret'])\n",
    "  connect = MongoClient(mongo, 27017) #mongo is environment variable\n",
    "  db = connect.starbucks\n",
    "  tweetdata = db.tweetdata\n",
    "  meta = db.metadata\n",
    "\n",
    "initialize()"
   ]
  },
  {
   "cell_type": "code",
   "execution_count": 5,
   "metadata": {},
   "outputs": [],
   "source": [
    "def getTweetData(search_word, max_id, since_id):\n",
    "  global twitter\n",
    "  url = 'https://api.twitter.com/1.1/search/tweets.json'\n",
    "  params = {'q': search_word,\n",
    "            'count':'100',\n",
    "  }\n",
    "  # max_idの指定があれば設定する\n",
    "  if max_id != -1:\n",
    "      params['max_id'] = max_id\n",
    "  # since_idの指定があれば設定する\n",
    "  if since_id != -1:\n",
    "      params['since_id'] = since_id\n",
    "\n",
    "  req = twitter.get(url, params = params)   # Tweetデータの取得\n",
    "\n",
    "  # 取得したデータの分解\n",
    "  if req.status_code == 200: # 成功した場合\n",
    "      timeline = json.loads(req.text)\n",
    "      metadata = timeline['search_metadata']\n",
    "      statuses = timeline['statuses']\n",
    "      limit = req.headers['x-rate-limit-remaining'] if 'x-rate-limit-remaining' in req.headers else 0\n",
    "      reset = req.headers['x-rate-limit-reset'] if 'x-rate-limit-reset' in req.headers else 0              \n",
    "      return {\"result\":True, \"metadata\":metadata, \"statuses\":statuses, \"limit\":limit, \"reset_time\":datetime.datetime.fromtimestamp(float(reset)), \"reset_time_unix\":reset}\n",
    "  else: # 失敗した場合\n",
    "      print (\"Error: %d\" % req.status_code)\n",
    "      return{\"result\":False, \"status_code\":req.status_code}"
   ]
  },
  {
   "cell_type": "code",
   "execution_count": 6,
   "metadata": {},
   "outputs": [],
   "source": [
    "# 文字列を日本時間2タイムゾーンを合わせた日付型で返す\n",
    "def str_to_date_jp(str_date):\n",
    "  dts = datetime.datetime.strptime(str_date,'%a %b %d %H:%M:%S +0000 %Y')\n",
    "  return pytz.utc.localize(dts).astimezone(pytz.timezone('Asia/Tokyo'))"
   ]
  },
  {
   "cell_type": "code",
   "execution_count": 7,
   "metadata": {},
   "outputs": [],
   "source": [
    "# 現在時刻をUNIX Timeで返す\n",
    "def now_unix_time():\n",
    "  return time.mktime(datetime.datetime.now().timetuple())"
   ]
  },
  {
   "cell_type": "code",
   "execution_count": 8,
   "metadata": {},
   "outputs": [],
   "source": [
    "sid=-1\n",
    "mid = -1 \n",
    "count = 0\n",
    "res = None"
   ]
  },
  {
   "cell_type": "code",
   "execution_count": 29,
   "metadata": {},
   "outputs": [
    {
     "name": "stdout",
     "output_type": "stream",
     "text": [
      "2, Error: 401\n",
      "status_code 401\n"
     ]
    }
   ],
   "source": [
    "while(True):\n",
    "    try:\n",
    "        count = count + 1\n",
    "        sys.stdout.write(\"%d, \"% count)\n",
    "        res = getTweetData(u'スタバ', max_id=mid, since_id=sid)\n",
    "        if res['result']==False:\n",
    "            # 失敗したら終了する\n",
    "            print (\"status_code\", res['status_code'])\n",
    "            break\n",
    "        \n",
    "        if int(res['limit']) == 0:    # 回数制限に達したので休憩\n",
    "            # 日付型の列'created_datetime'を付加する\n",
    "            print (\"Adding created_at field.\")\n",
    "            for d in tweetdata.find({'created_datetime':{ \"$exists\": False }},{'_id':1, 'created_at':1}):\n",
    "                #print str_to_date_jp(d['created_at'])\n",
    "                tweetdata.update({'_id' : d['_id']}, \n",
    "                     {'$set' : {'created_datetime' : str_to_date_jp(d['created_at'])}})\n",
    "            #remove_duplicates()\n",
    "            \n",
    "            # 待ち時間の計算. リミット＋５秒後に再開する\n",
    "            diff_sec = int(res['reset_time_unix']) - now_unix_time()\n",
    "            print (\"sleep %d sec.\" % (diff_sec+5))\n",
    "            if diff_sec > 0:\n",
    "                time.sleep(diff_sec + 5)\n",
    "        else:\n",
    "            # metadata処理\n",
    "            if len(res['statuses'])==0:\n",
    "                sys.stdout.write(\"statuses is none. \")\n",
    "            elif 'next_results' in res['metadata']:\n",
    "                # 結果をmongoDBに格納する\n",
    "                meta.insert({\"metadata\":res['metadata'], \"insert_date\": now_unix_time()})\n",
    "                for s in res['statuses']:\n",
    "                    tweetdata.insert(s)\n",
    "                next_url = res['metadata']['next_results']\n",
    "                pattern = r\".*max_id=([0-9]*)\\&.*\"\n",
    "                ite = re.finditer(pattern, next_url)\n",
    "                for i in ite:\n",
    "                    mid = i.group(1)\n",
    "                    break\n",
    "            else:\n",
    "                sys.stdout.write(\"next is none. finished.\")\n",
    "                break\n",
    "                \n",
    "#     except SSLError as (errno, request):\n",
    "#         print (\"SSLError({0}): {1}\".format(errno, strerror))\n",
    "#         print( \"waiting 5mins\")\n",
    "#         time.sleep(5*60)\n",
    "#     except ConnectionError as (errno, request):\n",
    "#         print (\"ConnectionError({0}): {1}\".format(errno, strerror))\n",
    "#         print (\"waiting 5mins\")\n",
    "#         time.sleep(5*60)\n",
    "#     except ReadTimeout as (errno, request):\n",
    "#         print (\"ReadTimeout({0}): {1}\".format(errno, strerror))\n",
    "#         print (\"waiting 5mins\")\n",
    "#         time.sleep(5*60)\n",
    "#     except:\n",
    "#         print( \"Unexpected error:\", sys.exc_info()[0])\n",
    "#         traceback.format_exc(sys.exc_info()[2])\n",
    "#         raise\n",
    "    finally:\n",
    "        info = sys.exc_info()"
   ]
  },
  {
   "cell_type": "code",
   "execution_count": null,
   "metadata": {},
   "outputs": [],
   "source": []
  },
  {
   "cell_type": "code",
   "execution_count": null,
   "metadata": {},
   "outputs": [],
   "source": []
  }
 ],
 "metadata": {
  "kernelspec": {
   "display_name": "Python 3",
   "language": "python",
   "name": "python3"
  },
  "language_info": {
   "codemirror_mode": {
    "name": "ipython",
    "version": 3
   },
   "file_extension": ".py",
   "mimetype": "text/x-python",
   "name": "python",
   "nbconvert_exporter": "python",
   "pygments_lexer": "ipython3",
   "version": "3.6.4"
  }
 },
 "nbformat": 4,
 "nbformat_minor": 2
}
